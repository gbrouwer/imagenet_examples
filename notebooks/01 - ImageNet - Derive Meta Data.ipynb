{
 "cells": [
  {
   "cell_type": "markdown",
   "metadata": {},
   "source": [
    "### Import"
   ]
  },
  {
   "cell_type": "code",
   "execution_count": 1,
   "metadata": {},
   "outputs": [],
   "source": [
    "import os\n",
    "import sys\n",
    "import pandas as pd\n",
    "import numpy as np\n",
    "import xml.etree.ElementTree as ET\n",
    "from tqdm import tqdm"
   ]
  },
  {
   "cell_type": "markdown",
   "metadata": {},
   "source": [
    "### Read Synth Net Data"
   ]
  },
  {
   "cell_type": "code",
   "execution_count": 2,
   "metadata": {},
   "outputs": [],
   "source": [
    "synthdata = pd.read_csv('../data/csv/synthnet.csv',delimiter='\\t',header=None)\n",
    "worddata = pd.read_csv('../data/csv/words.csv',delimiter='\\t',header=None)\n",
    "descriptiondata = pd.read_csv('../data/csv/descriptions.csv',delimiter='\\t',header=None)\n",
    "synthdata.columns = ['code','sythnames']\n",
    "worddata.columns = ['code','words']\n",
    "descriptiondata.columns = ['code','description']"
   ]
  },
  {
   "cell_type": "markdown",
   "metadata": {},
   "source": [
    "### Get Lists"
   ]
  },
  {
   "cell_type": "code",
   "execution_count": 3,
   "metadata": {},
   "outputs": [],
   "source": [
    "synthcodes = synthdata['code'].values.tolist()\n",
    "synthword = synthdata['sythnames'].values.tolist()\n",
    "wordcodes = worddata['code'].values.tolist()\n",
    "wordword = worddata['words'].values.tolist()\n",
    "descriptioncodes = descriptiondata['code'].values.tolist()\n",
    "descriptionword = descriptiondata['description'].values.tolist()"
   ]
  },
  {
   "cell_type": "markdown",
   "metadata": {},
   "source": [
    "### Find all training images that match the synthdata"
   ]
  },
  {
   "cell_type": "code",
   "execution_count": 4,
   "metadata": {},
   "outputs": [
    {
     "name": "stderr",
     "output_type": "stream",
     "text": [
      "1001it [00:08, 113.35it/s]\n"
     ]
    }
   ],
   "source": [
    "isPresent = []\n",
    "basepath = \"../data/orig/train/\"\n",
    "shortnames = []\n",
    "names = []\n",
    "paths = []\n",
    "nImages = []\n",
    "isPresents = []\n",
    "descriptions = []\n",
    "codes = []\n",
    "for m,mydir in tqdm(enumerate(os.listdir(basepath))):\n",
    "\n",
    "    #Get Name\n",
    "    if (mydir != '.DS_Store'):\n",
    "        path = '/'\n",
    "        name = ''\n",
    "        description = ''\n",
    "        nImage = 0\n",
    "        ispresent = False\n",
    "        if (mydir in synthcodes):\n",
    "            index = synthcodes.index(mydir)\n",
    "            name = synthword[index].lower()\n",
    "            path = basepath + mydir\n",
    "            ispresent = True\n",
    "            for root, dirs, files in os.walk(basepath + mydir):\n",
    "                nImage = len(files)\n",
    "        if (mydir in wordcodes):\n",
    "            index = wordcodes.index(mydir)\n",
    "            name = wordword[index].lower()\n",
    "            path = basepath + mydir\n",
    "            ispresent = True\n",
    "            for root, dirs, files in os.walk(basepath + mydir):\n",
    "                nImage = len(files)\n",
    "\n",
    "        #Get Description\n",
    "        if (mydir in descriptioncodes):\n",
    "            index = descriptioncodes.index(mydir)\n",
    "            description = descriptionword[index].lower()\n",
    "\n",
    "        #Add to list\n",
    "        elements = name.split(',')\n",
    "        shortname = elements[0]\n",
    "        names.append(name)\n",
    "        shortnames.append(shortname)\n",
    "        paths.append(path)\n",
    "        descriptions.append(description)\n",
    "        isPresents.append(ispresent)\n",
    "        nImages.append(nImage)\n",
    "        codes.append(mydir)"
   ]
  },
  {
   "cell_type": "markdown",
   "metadata": {},
   "source": [
    "### Create New Dataframe"
   ]
  },
  {
   "cell_type": "code",
   "execution_count": 5,
   "metadata": {},
   "outputs": [],
   "source": [
    "C = pd.DataFrame()\n",
    "C['code'] = codes\n",
    "C['shortname'] = shortnames\n",
    "C['name'] = names\n",
    "C['description'] = descriptions\n",
    "C['path'] = paths\n",
    "C['nImages'] = nImages\n",
    "C['isPresent'] = isPresents"
   ]
  },
  {
   "cell_type": "markdown",
   "metadata": {},
   "source": [
    "### Store"
   ]
  },
  {
   "cell_type": "code",
   "execution_count": 6,
   "metadata": {},
   "outputs": [],
   "source": [
    "C.to_csv('../data/csv/imagenet.csv',index=False)"
   ]
  },
  {
   "cell_type": "markdown",
   "metadata": {},
   "source": [
    "### Find all Images and Bounding Boxes (if present)"
   ]
  },
  {
   "cell_type": "code",
   "execution_count": 7,
   "metadata": {},
   "outputs": [
    {
     "name": "stderr",
     "output_type": "stream",
     "text": [
      "100%|██████████| 1000/1000 [03:50<00:00,  4.33it/s]\n"
     ]
    }
   ],
   "source": [
    "basepath = \"../data/annotations/train/\"\n",
    "imagepath = \"../data/orig/train/\" \n",
    "mydirs = os.listdir(imagepath)[1:]\n",
    "xmins = []\n",
    "ymins = []\n",
    "xmaxs = []\n",
    "ymaxs = []\n",
    "hasboundingbox = []\n",
    "imagefiles = []\n",
    "xmlfiles = []\n",
    "I = []\n",
    "for mydir in tqdm(mydirs):\n",
    "    \n",
    "    #Get Files\n",
    "    if (mydir in codes):\n",
    "        subset = C[C['code'] == mydir]\n",
    "        dp = subset.iloc[0]\n",
    "        myfiles = os.listdir(imagepath + mydir)\n",
    "        for myfile in myfiles:\n",
    "            imgfile = imagepath + mydir + '/' + myfile.replace('xml','JPEG')\n",
    "            xmlfile = basepath + mydir + '/' + myfile.replace('JPEG','xml')\n",
    "            if os.path.exists(xmlfile):\n",
    "                tree = ET.parse(xmlfile)\n",
    "                root = tree.getroot()\n",
    "                xmin = int(root[5][4][0].text)\n",
    "                ymin = int(root[5][4][1].text)\n",
    "                xmax = int(root[5][4][2].text)\n",
    "                ymax = int(root[5][4][3].text)\n",
    "                hasboundingbox.append(True)\n",
    "            else:\n",
    "                xmlfile = ''\n",
    "                xmin = 0\n",
    "                ymin = 0\n",
    "                xmax = 0\n",
    "                ymax = 0\n",
    "                hasboundingbox.append(False)\n",
    "            xmins.append(xmin)\n",
    "            ymins.append(ymin)\n",
    "            xmaxs.append(xmax)\n",
    "            ymaxs.append(ymax)\n",
    "            xmlfiles.append(xmlfile)\n",
    "            imagefiles.append(imgfile)\n",
    "            I.append((dp.code,dp.shortname,dp.name,dp.description,dp.path,dp.nImages,dp.isPresent))\n",
    "I = pd.DataFrame(I)\n",
    "I.columns = C.columns\n",
    "I['imgfiles'] = imagefiles\n",
    "I['xmlfiles'] = xmlfiles\n",
    "I['hasboundingbox'] = hasboundingbox\n",
    "I['xmins'] = xmins\n",
    "I['ymins'] = ymins\n",
    "I['xmaxs'] = xmaxs\n",
    "I['ymaxs'] = ymaxs"
   ]
  },
  {
   "cell_type": "markdown",
   "metadata": {},
   "source": [
    "### Store to CSV"
   ]
  },
  {
   "cell_type": "code",
   "execution_count": 8,
   "metadata": {},
   "outputs": [],
   "source": [
    "I.to_csv('../data/csv/imagenet_files.csv',index=False)"
   ]
  }
 ],
 "metadata": {
  "kernelspec": {
   "display_name": "Python 3",
   "language": "python",
   "name": "python3"
  },
  "language_info": {
   "codemirror_mode": {
    "name": "ipython",
    "version": 3
   },
   "file_extension": ".py",
   "mimetype": "text/x-python",
   "name": "python",
   "nbconvert_exporter": "python",
   "pygments_lexer": "ipython3",
   "version": "3.7.6"
  }
 },
 "nbformat": 4,
 "nbformat_minor": 4
}
